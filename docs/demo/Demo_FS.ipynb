{
  "cells": [
    {
      "cell_type": "markdown",
      "metadata": {
        "id": "view-in-github",
        "colab_type": "text"
      },
      "source": [
        "<a href=\"https://colab.research.google.com/github/mpianforini/FloodSformer/blob/main/docs/demo/Demo_FS.ipynb\" target=\"_parent\"><img src=\"https://colab.research.google.com/assets/colab-badge.svg\" alt=\"Open In Colab\"/></a>"
      ]
    },
    {
      "cell_type": "markdown",
      "metadata": {
        "id": "aKNBMZWAgJr_"
      },
      "source": [
        "# FloodSformer: real-time forecasting\n",
        "\n",
        "This is a demo of the real-time forecasting procedure of the FloodSformer model. Further details can be found in our paper: Pianforini et al. (2024). Real-Time Flood Maps Forecasting for Dam-Break Scenarios with a Transformer-Based Deep Learning Model. *Journal of Hydrology*. \\\n",
        "\\\n",
        "Case studies:\n",
        "1.   Dam-break in a channel with a parabolic cross section\n",
        "2.   Dam-break in a rectangular tank\n",
        "\n",
        "The resulting output maps (target, predicted and differences maps) will be stored in the designated output folder. Users have the capability to download the entire folder for convenient access.\n",
        "\n",
        "Note: please use a GPU if available."
      ]
    },
    {
      "cell_type": "code",
      "execution_count": null,
      "metadata": {
        "id": "qPub03_adqax"
      },
      "outputs": [],
      "source": [
        "import torch\n",
        "import os\n",
        "import sys\n",
        "import urllib.request as req\n",
        "from datetime import datetime, timedelta\n",
        "\n",
        "# check whether run in Colab\n",
        "if 'google.colab' in sys.modules:\n",
        "    print('Running in Colab.')\n",
        "    # Intall the packages\n",
        "    !pip install torchmetrics -q\n",
        "    !pip install simplejson -q\n",
        "    !pip install einops -q\n",
        "    !pip install psutil -q\n",
        "    !pip install timm -q\n",
        "    !pip install opencv-python -q\n",
        "    !pip install -U fvcore -q\n",
        "    !pip install zenodo-get -q\n",
        "else:\n",
        "    sys.path.append('..')\n",
        "    raise Warning(\"You are not using Colab. Ensure all necessary packages are installed before proceeding.\")"
      ]
    },
    {
      "cell_type": "code",
      "source": [
        "# Clone the GitHub repository\n",
        "print('Cloning the GitHub repository')\n",
        "!git clone https://github.com/mpianforini/FloodSformer.git\n",
        "sys.path.append('./FloodSformer')\n",
        "if os.getcwd() != '/content/FloodSformer':\n",
        "  os.chdir('FloodSformer/')\n",
        "\n",
        "# Clone the Zenodo repository (dataset and weights)\n",
        "print('Cloning the Zenodo repository')\n",
        "!zenodo_get '10.5281/zenodo.10878385'\n",
        "!unzip -q FloodSformer_datasets&checkpoints.zip\n",
        "!rm FloodSformer_datasets&checkpoints.zip"
      ],
      "metadata": {
        "id": "iPk4znMBXklg"
      },
      "execution_count": null,
      "outputs": []
    },
    {
      "cell_type": "markdown",
      "metadata": {
        "id": "4JKz1_kyf_23"
      },
      "source": [
        "***\n",
        "## Run the real-time forecasting"
      ]
    },
    {
      "cell_type": "code",
      "execution_count": null,
      "metadata": {
        "id": "NnXOL7bpwCQn"
      },
      "outputs": [],
      "source": [
        "### PARAMETERS ###\n",
        "# Case study:\n",
        "# 1 - Dam-break in a channel with a parabolic cross section\n",
        "# 2 - Dam-break in a rectangular tank\n",
        "case_study = 1\n",
        "\n",
        "# Number of past frames\n",
        "past_frames = 8  # P: number of past frames (between 1 and 8)\n",
        "\n",
        "if case_study == 1:\n",
        "  chkpt_AE_dir = 'DB_parabolic/checkpoint/AE_parab_e86.tar'\n",
        "  chkpt_VPTR_dir = 'DB_parabolic/checkpoint/VPTR_parab_e116.tar'\n",
        "  dataset_dir = 'DB_parabolic/dataset_test/'\n",
        "  cfg_file = 'configs/Dam_break/DB_parabolic_testFS.yaml'\n",
        "  future_frames = 106 - past_frames\n",
        "  name_download = 'DB_parabolic_Results_P{}_F{}.zip'.format(past_frames, future_frames)\n",
        "  print(\"Case study 1 - Dam-break in a channel with a parabolic cross section\")\n",
        "  print(\"Past frames = {}\".format(past_frames))\n",
        "  print(\"Future frames = {}\".format(future_frames))\n",
        "elif case_study == 2:\n",
        "  chkpt_AE_dir = 'DB_tank/checkpoint/AE_tank_e66.tar'\n",
        "  chkpt_VPTR_dir = 'DB_tank/checkpoint/VPTR_tank_e212.tar'\n",
        "  dataset_dir = 'DB_tank/dataset_test/'\n",
        "  cfg_file = 'configs/Dam_break/DB_tank_testFS.yaml'\n",
        "  future_frames = 121 - past_frames\n",
        "  name_download = 'DB_tank_Results_P{}_F{}.zip'.format(past_frames, future_frames)\n",
        "  print(\"Case study 2 - Dam-break in a rectangular tank\")\n",
        "  print(\"Past frames = {}\".format(past_frames))\n",
        "  print(\"Future frames = {}\".format(future_frames))\n",
        "else:\n",
        "  raise NotImplementedError(\"Case study not implemented\")\n",
        "\n",
        "assert past_frames < 9 and past_frames > 0"
      ]
    },
    {
      "cell_type": "code",
      "execution_count": null,
      "metadata": {
        "id": "szAd7uPaUh1O"
      },
      "outputs": [],
      "source": [
        "from docs.demo.demo_utils import set_config, run_RTforecast\n",
        "from floodsformer.config.defaults import _assert_and_infer_cfg\n",
        "\n",
        "# Setup cfg.\n",
        "cfg = set_config(cfg_file, past_frames, future_frames, chkpt_AE_dir, chkpt_VPTR_dir, dataset_dir)\n",
        "\n",
        "if torch.cuda.is_available():\n",
        "  cfg.NUM_GPUS = 1\n",
        "  print(\"Run using GPU\")\n",
        "  print(\"Num GPUs Available: \", torch.cuda.device_count())\n",
        "  !nvidia-smi -L\n",
        "else:\n",
        "  cfg.NUM_GPUS = 0\n",
        "  print(\"WARNING: running using CPU. High computational time!\\n\")\n",
        "  print(\"CPU type:\")\n",
        "  !cat /proc/cpuinfo | grep \"model name\" | head -1\n",
        "  print(\"Number of cores:\")\n",
        "  !cat /proc/cpuinfo | grep \"model name\" | wc -l\n",
        "\n",
        "# Make some assertions.\n",
        "cfg = _assert_and_infer_cfg(cfg)\n",
        "\n",
        "# Run the real-time forecasting procedure.\n",
        "save_dir, renorm_transform = run_RTforecast(cfg)\n",
        "print(\"Output grids saved in: {}\".format(save_dir))"
      ]
    },
    {
      "cell_type": "markdown",
      "metadata": {
        "id": "reG_YUNJwlrI"
      },
      "source": [
        "***\n",
        "## Print ground-truth and predicted maps\n",
        "- The first row of the figure represents the ground-truth maps obtained with the PARFLOOD code (numerical model).\n",
        "- The second row reports the maps predicted by the FloodSformer model (surrogate model).\n",
        "- The last row represents the difference between predicted and ground-truth maps."
      ]
    },
    {
      "cell_type": "code",
      "execution_count": null,
      "metadata": {
        "id": "x0OFmbu1wtKg"
      },
      "outputs": [],
      "source": [
        "from docs.demo.demo_utils import MapToImage\n",
        "MapToImage(cfg, save_dir, renorm_transform)"
      ]
    },
    {
      "cell_type": "markdown",
      "source": [
        "### Plot the RMSE"
      ],
      "metadata": {
        "id": "8mHMbOmaSfWa"
      }
    },
    {
      "cell_type": "code",
      "source": [
        "import matplotlib.pyplot as plt\n",
        "import matplotlib.image as mpimg\n",
        "\n",
        "img = mpimg.imread(os.path.join(save_dir, 'plot_rmse_seq_0.png'))\n",
        "plt.imshow(img, origin='upper')\n",
        "plt.axis('off')  # Turn off axis\n",
        "plt.show()"
      ],
      "metadata": {
        "id": "RUwPfgfQSarC"
      },
      "execution_count": null,
      "outputs": []
    },
    {
      "cell_type": "markdown",
      "source": [
        "***\n",
        "## Download the results\n",
        "The output grids (ground-truth, predicted and differences) for all the future frames are available for download from the designated output folder. \\\n",
        "Users have the option to manually retrieve the files or utilize the following code to download the results from the most recent run."
      ],
      "metadata": {
        "id": "MGprExIS3dGZ"
      }
    },
    {
      "cell_type": "code",
      "source": [
        "import shutil\n",
        "from google.colab import files\n",
        "\n",
        "# Create a zip file of the folder with the results of the last run.\n",
        "shutil.make_archive(name_download, 'zip', save_dir)\n",
        "# Download the zip file to local machine\n",
        "files.download(name_download)\n",
        "print(\"{} downloaded.\".format(name_download))"
      ],
      "metadata": {
        "id": "5MBxcj75KN3U"
      },
      "execution_count": null,
      "outputs": []
    }
  ],
  "metadata": {
    "colab": {
      "provenance": [],
      "gpuType": "T4",
      "include_colab_link": true
    },
    "kernelspec": {
      "display_name": "Python 3",
      "name": "python3"
    },
    "language_info": {
      "codemirror_mode": {
        "name": "ipython",
        "version": 3
      },
      "file_extension": ".py",
      "mimetype": "text/x-python",
      "name": "python",
      "nbconvert_exporter": "python",
      "pygments_lexer": "ipython3",
      "version": "3.10.9"
    },
    "accelerator": "GPU"
  },
  "nbformat": 4,
  "nbformat_minor": 0
}